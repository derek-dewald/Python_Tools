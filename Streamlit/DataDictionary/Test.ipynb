{
 "cells": [
  {
   "cell_type": "code",
   "execution_count": 9,
   "id": "f9020462",
   "metadata": {},
   "outputs": [],
   "source": [
    "import sys\n",
    "import os\n",
    "#import streamlit as st\n",
    "import numpy as np\n",
    "import pandas as pd\n",
    "\n",
    "# Get path to the root folder (Python_Tools)\n",
    "base_dir = os.path.abspath(os.path.join(os.getcwd(), \"../../\"))\n",
    "\n",
    "# Add the `d_py_functions` folder to the system path\n",
    "sys.path.append(os.path.join(base_dir, \"d_py_functions\"))\n",
    "\n",
    "# Now import your functions\n",
    "\n"
   ]
  },
  {
   "cell_type": "code",
   "execution_count": 23,
   "id": "22082049",
   "metadata": {},
   "outputs": [
    {
     "data": {
      "text/plain": [
       "'<h4>1. Problem Definition</h4>\\n<ul>\\n  <li>Clearly Defined Problem Statement</li>\\n    <ul><li>Problem statement should include a clear, specific, well considered, and relate to a meaningful solvable, problem. Additionally, the problem statement should highlight why the issue is relavant, and how the problem is known to exist (Facts, Stats, Magnitude).</li></ul>\\n  <li>Current State</li>\\n    <ul><li>It is crirically important that problems are substantiated, clear, and comprehensively understood, at both executive and L6 levels. It is important to have 360 perspective of what the problem is, not simply 1 persons, or a small groups perspective (regardless of how influential that individual is).</li></ul>\\n  <li>Historical Context</li>\\n    <ul><li>You can not create a best in class solution, without knowing what has come before, why those solutoins did not fully satisfy, and where the risks lie.</li></ul>\\n</ul>\\n<h4>2. Problem Desired End State</h4>\\n<ul>\\n  <li>Specific Description of Requirements, Desires and Expectations.</li>\\n    <ul><li>Needs to be very clear, such that a proposed solution can be measured as to whether it meets the criteria, while all KPIs are not necessarily defined yet several primary related to needs and expectations should be defined, and considered for plausibility. </li></ul>\\n</ul>\\n<h4>3. Model Conceptualization</h4>\\n<ul>\\n  <li>on problem statement and desired end state, conceptualize the types of solutions and models which could be developed and implemente</li>\\n  <li>Identify types of Models and Architectures which might be relevant in solving problem and delievering fundamental components of desired end state</li>\\n  <li>Estimate baseline development cost for each model architecture</li>\\n  <li>Identify and define model evaluation criteria and MVP performance requirements</li>\\n  <li>Ensure to include a technical description of why the particular model type is appropriate or not in the context of desired solution</li>\\n  <li>If any core components of desired end state are missing from solutions, validate with Stakeholders to clarify before proceeding forward</li>\\n  <li>Where possible, try to retain as much flexibility and optionality as possible, explicilty noting development time required for baseline solution</li>\\n</ul>\\n<h4>4. Data Collection</h4>\\n<ul>\\n  <li>Identify Data Elements which are required, which are available and which need to be sourced</li>\\n  <li>List of All Required Data</li>\\n  <li>Completed Dictionary for all data elements included</li>\\n  <li>For elements which are not available, ensure individuals are assigned as Data Stewards and a delivery dates (including refresh requirements are identified)</li>\\n  <li>For new data, ensure Data Validaion, Quality and refresh frequency are explicitly dicussed and ownership for each assigned</li>\\n</ul>\\n<h4>5. EDA and Data Preprocessing</h4>\\n<ul>\\n  <li>Explore dataset which are to be used for model creation once creat</li>\\n  <li>Complete EDA Checklist</li>\\n  <li>Insights report</li>\\n</ul>\\n<h4>6. Baseline Model Selection & Validation</h4>\\n<ul>\\n  <li>Run initial ML pipeline, review outputs, validate model, features and preliminary results before tuning and finalization</li>\\n  <li>Identify which models have best performance, rationalize performance</li>\\n  <li>Identify Feature Importance, and determine if model structure is appropriate or changes are appropriate</li>\\n  <li>Test alternative feature structure, explore feature engineering and explore for any unknown, or unexpected results</li>\\n</ul>\\n<h4>7. Tune Model</h4>\\n<ul>\\n  <li>Hyperparameter tune models which meet MVP requirements, appear to be best in class and viable for implementation</li>\\n</ul>\\n'"
      ]
     },
     "execution_count": 23,
     "metadata": {},
     "output_type": "execute_result"
    }
   ],
   "source": [
    "\n",
    "df"
   ]
  },
  {
   "cell_type": "code",
   "execution_count": null,
   "id": "b4a625c4",
   "metadata": {},
   "outputs": [],
   "source": [
    "import pandas as pd\n",
    "\n",
    "# Remove NaN values\n",
    "\n",
    "\n",
    "print(cleaned_list)\n"
   ]
  },
  {
   "cell_type": "code",
   "execution_count": 12,
   "id": "75af8c6a",
   "metadata": {},
   "outputs": [
    {
     "data": {
      "text/html": [
       "<h4>1. Problem Definition</h4>\n",
       "<ul>\n",
       "  <li>Clearly Defined Problem Statement</li>\n",
       "    <ul><li>Problem statement should include a clear, specific, well considered, and relate to a meaningful solvable, problem. Additionally, the problem statement should highlight why the issue is relavant, and how the problem is known to exist (Facts, Stats, Magnitude).</li></ul>\n",
       "  <li>Current State</li>\n",
       "    <ul><li>It is crirically important that problems are substantiated, clear, and comprehensively understood, at both executive and L6 levels. It is important to have 360 perspective of what the problem is, not simply 1 persons, or a small groups perspective (regardless of how influential that individual is).</li></ul>\n",
       "  <li>Historical Context</li>\n",
       "    <ul><li>You can not create a best in class solution, without knowing what has come before, why those solutoins did not fully satisfy, and where the risks lie.</li></ul>\n",
       "</ul>\n",
       "<h4>2. Problem Desired End State</h4>\n",
       "<ul>\n",
       "  <li>Specific Description of Requirements, Desires and Expectations.</li>\n",
       "    <ul><li>Needs to be very clear, such that a proposed solution can be measured as to whether it meets the criteria, while all KPIs are not necessarily defined yet several primary related to needs and expectations should be defined, and considered for plausibility. </li></ul>\n",
       "</ul>\n",
       "<h4>3. Model Conceptualization</h4>\n",
       "<ul>\n",
       "  <li>on problem statement and desired end state, conceptualize the types of solutions and models which could be developed and implemente</li>\n",
       "  <li>Identify types of Models and Architectures which might be relevant in solving problem and delievering fundamental components of desired end state</li>\n",
       "  <li>Estimate baseline development cost for each model architecture</li>\n",
       "  <li>Identify and define model evaluation criteria and MVP performance requirements</li>\n",
       "  <li>Ensure to include a technical description of why the particular model type is appropriate or not in the context of desired solution</li>\n",
       "  <li>If any core components of desired end state are missing from solutions, validate with Stakeholders to clarify before proceeding forward</li>\n",
       "  <li>Where possible, try to retain as much flexibility and optionality as possible, explicilty noting development time required for baseline solution</li>\n",
       "</ul>\n",
       "<h4>4. Data Collection</h4>\n",
       "<ul>\n",
       "  <li>Identify Data Elements which are required, which are available and which need to be sourced</li>\n",
       "  <li>List of All Required Data</li>\n",
       "  <li>Completed Dictionary for all data elements included</li>\n",
       "  <li>For elements which are not available, ensure individuals are assigned as Data Stewards and a delivery dates (including refresh requirements are identified)</li>\n",
       "  <li>For new data, ensure Data Validaion, Quality and refresh frequency are explicitly dicussed and ownership for each assigned</li>\n",
       "</ul>\n",
       "<h4>5. EDA and Data Preprocessing</h4>\n",
       "<ul>\n",
       "  <li>Explore dataset which are to be used for model creation once creat</li>\n",
       "  <li>Complete EDA Checklist</li>\n",
       "  <li>Insights report</li>\n",
       "</ul>\n",
       "<h4>6. Baseline Model Selection & Validation</h4>\n",
       "<ul>\n",
       "  <li>Run initial ML pipeline, review outputs, validate model, features and preliminary results before tuning and finalization</li>\n",
       "  <li>Identify which models have best performance, rationalize performance</li>\n",
       "  <li>Identify Feature Importance, and determine if model structure is appropriate or changes are appropriate</li>\n",
       "  <li>Test alternative feature structure, explore feature engineering and explore for any unknown, or unexpected results</li>\n",
       "</ul>\n",
       "<h4>7. Tune Model</h4>\n",
       "<ul>\n",
       "  <li>Hyperparameter tune models which meet MVP requirements, appear to be best in class and viable for implementation</li>\n",
       "</ul>\n"
      ],
      "text/plain": [
       "<IPython.core.display.HTML object>"
      ]
     },
     "metadata": {},
     "output_type": "display_data"
    }
   ],
   "source": [
    "CreateMarkdownfromProcess(processes[0])"
   ]
  },
  {
   "cell_type": "code",
   "execution_count": 11,
   "id": "182b5959",
   "metadata": {},
   "outputs": [
    {
     "name": "stdout",
     "output_type": "stream",
     "text": [
      "DataFrame does not meet structure requirement, which must include 3 Column: Title, Header, Description\n"
     ]
    },
    {
     "data": {
      "text/plain": [
       "''"
      ]
     },
     "execution_count": 11,
     "metadata": {},
     "output_type": "execute_result"
    }
   ],
   "source": [
    "CreateMarkdown(processes[0])"
   ]
  }
 ],
 "metadata": {
  "kernelspec": {
   "display_name": "Python 3 (ipykernel)",
   "language": "python",
   "name": "python3"
  },
  "language_info": {
   "codemirror_mode": {
    "name": "ipython",
    "version": 3
   },
   "file_extension": ".py",
   "mimetype": "text/x-python",
   "name": "python",
   "nbconvert_exporter": "python",
   "pygments_lexer": "ipython3",
   "version": "3.12.8"
  }
 },
 "nbformat": 4,
 "nbformat_minor": 5
}
