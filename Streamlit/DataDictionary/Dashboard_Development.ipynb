{
 "cells": [
  {
   "cell_type": "code",
   "execution_count": 8,
   "id": "ef9b1e26",
   "metadata": {},
   "outputs": [
    {
     "data": {
      "text/plain": [
       "'/Users/derekdewald/Documents/Python/Github_Repo/Streamlit/DataDictionary'"
      ]
     },
     "execution_count": 8,
     "metadata": {},
     "output_type": "execute_result"
    }
   ],
   "source": [
    "os.getcwd()"
   ]
  },
  {
   "cell_type": "code",
   "execution_count": 12,
   "id": "b70740dc",
   "metadata": {},
   "outputs": [
    {
     "data": {
      "text/plain": [
       "'/Users/derekdewald/Documents/Python/d_py_functions'"
      ]
     },
     "execution_count": 12,
     "metadata": {},
     "output_type": "execute_result"
    }
   ],
   "source": [
    "os.path.abspath(os.path.join(os.path.dirname(os.getcwd()), '..', '..', 'd_py_functions'))"
   ]
  },
  {
   "cell_type": "code",
   "execution_count": 7,
   "id": "62667e12",
   "metadata": {},
   "outputs": [
    {
     "data": {
      "text/plain": [
       "'/Users/derekdewald/Documents/Python/Github_Repo/d_py_functions'"
      ]
     },
     "execution_count": 7,
     "metadata": {},
     "output_type": "execute_result"
    }
   ],
   "source": [
    "os.path.abspath(os.path.join(os.path.dirname(os.getcwd()), '..', 'd_py_functions'))"
   ]
  },
  {
   "cell_type": "code",
   "execution_count": 2,
   "id": "77944a74",
   "metadata": {},
   "outputs": [],
   "source": [
    "import os\n",
    "\n",
    "\n",
    "from Organization import CreateMarkdownfromProcess\n",
    "\n"
   ]
  },
  {
   "cell_type": "code",
   "execution_count": null,
   "id": "7fe15c89",
   "metadata": {},
   "outputs": [],
   "source": []
  },
  {
   "cell_type": "code",
   "execution_count": 2,
   "id": "14433524",
   "metadata": {},
   "outputs": [
    {
     "data": {
      "text/html": [
       "<h4>1. Problem Definition</h4>\n",
       "<ul>\n",
       "  <li>Clearly Defined Problem Statement</li>\n",
       "    <ul><li>Problem statement should include a clear, specific, well considered, and relate to a meaningful solvable, problem. Additionally, the problem statement should highlight why the issue is relavant, and how the problem is known to exist (Facts, Stats, Magnitude).</li></ul>\n",
       "  <li>Current State</li>\n",
       "    <ul><li>It is crirically important that problems are substantiated, clear, and comprehensively understood, at both executive and L6 levels. It is important to have 360 perspective of what the problem is, not simply 1 persons, or a small groups perspective (regardless of how influential that individual is).</li></ul>\n",
       "  <li>Historical Context</li>\n",
       "    <ul><li>You can not create a best in class solution, without knowing what has come before, why those solutoins did not fully satisfy, and where the risks lie.</li></ul>\n",
       "</ul>\n",
       "<h4>2. Problem Desired End State</h4>\n",
       "<ul>\n",
       "  <li>Specific Description of Requirements, Desires and Expectations.</li>\n",
       "    <ul><li>Needs to be very clear, such that a proposed solution can be measured as to whether it meets the criteria, while all KPIs are not necessarily defined yet several primary related to needs and expectations should be defined, and considered for plausibility. </li></ul>\n",
       "  <li>How will the tool be used?</li>\n",
       "    <ul><li>Understand very specifically, at a operational level, how will the tool be used (ie, individual a will open dashboard, they will review, if A then B, if C then D, if E then F.</li></ul>\n",
       "</ul>\n",
       "<h4>3. Model Conceptualization</h4>\n",
       "<ul>\n",
       "  <li>on problem statement and desired end state, conceptualize the types of solutions and models which could be developed and implemente</li>\n",
       "  <li>Identify types of Models and Architectures which might be relevant in solving problem and delievering fundamental components of desired end state</li>\n",
       "  <li>Estimate baseline development cost for each model architecture</li>\n",
       "  <li>Identify and define model evaluation criteria and MVP performance requirements</li>\n",
       "  <li>Ensure to include a technical description of why the particular model type is appropriate or not in the context of desired solution</li>\n",
       "  <li>If any core components of desired end state are missing from solutions, validate with Stakeholders to clarify before proceeding forward</li>\n",
       "  <li>Where possible, try to retain as much flexibility and optionality as possible, explicilty noting development time required for baseline solution</li>\n",
       "</ul>\n",
       "<h4>4. Data Collection</h4>\n",
       "<ul>\n",
       "  <li>Identify Data Elements which are required, desired, and available</li>\n",
       "  <li>Locate and Confirm Data Availability</li>\n",
       "    <ul><li>Ensure accountability of this action is clear, where data is not available what will be done, change approach, obtain data, engineer data?</li></ul>\n",
       "  <li>Completed Dictionary for all data elements included</li>\n",
       "  <li>For elements which are not available, ensure individuals are assigned as Data Stewards and a delivery dates (including refresh requirements are identified)</li>\n",
       "  <li>For new data, ensure Data Validaion, Quality and refresh frequency are explicitly dicussed and ownership for each assigned</li>\n",
       "</ul>\n",
       "<h4>5. EDA and Data Preprocessing</h4>\n",
       "<ul>\n",
       "  <li>Build Environment</li>\n",
       "    <ul><li>Poetry, Virtual Environment, Other.</li></ul>\n",
       "  <li>Explore dataset which are to be used for model creation once creat</li>\n",
       "    <ul><li>Exploration approach situatioal contigent on SME knowledge and availability. Refer to EDA - Approach.</li></ul>\n",
       "  <li>Complete EDA Checklist</li>\n",
       "  <li>Insights report</li>\n",
       "</ul>\n",
       "<h4>6. Baseline Model Selection & Validation</h4>\n",
       "<ul>\n",
       "  <li>Run initial ML pipeline, review outputs, validate model, features and preliminary results before tuning and finalization</li>\n",
       "  <li>Identify which models have best performance, rationalize performance</li>\n",
       "  <li>Identify Feature Importance, and determine if model structure is appropriate or changes are appropriate</li>\n",
       "  <li>Test alternative feature structure, explore feature engineering and explore for any unknown, or unexpected results</li>\n",
       "  <li>Speed Vs Accuracy</li>\n",
       "    <ul><li>Is it better to be Accurate, Fast or available immediately.</li></ul>\n",
       "  <li>Don't Let Perfect be the Enemy of Completion.</li>\n",
       "    <ul><li>Does the accuracy of the data change the result, if not then it's not germane to the decision </li></ul>\n",
       "</ul>\n",
       "<h4>7. Tune Model</h4>\n",
       "<ul>\n",
       "  <li>Hyperparameter tune models which meet MVP requirements, appear to be best in class and viable for implementation</li>\n",
       "</ul>\n"
      ],
      "text/plain": [
       "<IPython.core.display.HTML object>"
      ]
     },
     "metadata": {},
     "output_type": "display_data"
    }
   ],
   "source": [
    "import pandas as pd\n",
    "import numpy as np\n",
    "import sys\n",
    "sys.path.append(\"/Users/derekdewald/Documents/Python/Github_Repo/d_py_functions/\")\n",
    "\n",
    "from Organization import CreateMarkdownfromProcess\n",
    "\n",
    "CreateMarkdownfromProcess('Machine Learning Project')"
   ]
  },
  {
   "cell_type": "code",
   "execution_count": 4,
   "id": "757bb602",
   "metadata": {},
   "outputs": [],
   "source": [
    "import streamlit as st\n",
    "import pandas as pd\n",
    "\n",
    "# Ensure your two functions are already defined above: CreateMarkdown and CreateMarkdownfromProcess\n",
    "\n",
    "# Example list of processes to display\n",
    "\n",
    "for process in process_list:\n",
    "    try:\n",
    "        html_text = CreateMarkdownfromProcess(process, return_value=\"text\")\n",
    "    except:\n",
    "        print('d')\n"
   ]
  },
  {
   "cell_type": "code",
   "execution_count": 6,
   "id": "8dac88e9",
   "metadata": {},
   "outputs": [
    {
     "name": "stdout",
     "output_type": "stream",
     "text": [
      "./\n",
      "  .DS_Store\n",
      "  requirements.txt\n",
      "  MarkdownNotes.py\n",
      "  dashboard.py\n",
      "  process.py\n",
      "  PythonFunctions.py\n",
      "  code_dashboard.py\n",
      "  Test.ipynb\n",
      "  Dashboard_Development.ipynb\n",
      "  .ipynb_checkpoints/\n",
      "    dashboard-checkpoint.py\n",
      "    Dashboard_Development-checkpoint.ipynb\n",
      "    Test-checkpoint.ipynb\n",
      "  downloaded_py_files/\n",
      "    FeatureEngineering.py\n",
      "    DateFunctions.py\n",
      "    Organization.py\n",
      "    Connections.py\n",
      "    __init__.py\n",
      "    SharedFolder.py\n",
      "    Visualization.py\n",
      "    EDA.py\n",
      "    DFProcessing.py\n",
      "    MLPipeline.py\n",
      "    Validation.py\n"
     ]
    }
   ],
   "source": [
    "import os\n",
    "\n",
    "def print_tree(start_path='.', max_depth=3, prefix=''):\n",
    "    for root, dirs, files in os.walk(start_path):\n",
    "        depth = root[len(start_path):].count(os.sep)\n",
    "        if depth >= max_depth:\n",
    "            continue\n",
    "        indent = '  ' * depth\n",
    "        print(f\"{indent}{os.path.basename(root)}/\")\n",
    "        for f in files:\n",
    "            print(f\"{indent}  {f}\")\n",
    "\n",
    "# Run this from your project root\n",
    "print_tree('.', max_depth=3)"
   ]
  }
 ],
 "metadata": {
  "kernelspec": {
   "display_name": "Python 3 (ipykernel)",
   "language": "python",
   "name": "python3"
  },
  "language_info": {
   "codemirror_mode": {
    "name": "ipython",
    "version": 3
   },
   "file_extension": ".py",
   "mimetype": "text/x-python",
   "name": "python",
   "nbconvert_exporter": "python",
   "pygments_lexer": "ipython3",
   "version": "3.12.8"
  }
 },
 "nbformat": 4,
 "nbformat_minor": 5
}
