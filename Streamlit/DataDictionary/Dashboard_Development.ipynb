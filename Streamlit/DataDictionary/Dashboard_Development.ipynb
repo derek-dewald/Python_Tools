{
 "cells": [
  {
   "cell_type": "code",
   "execution_count": null,
   "id": "2026bc86-2717-4c4a-9242-0a3d67626d6c",
   "metadata": {},
   "outputs": [
    {
     "name": "stdout",
     "output_type": "stream",
     "text": [
      "ERROR! Session/line number was not unique in database. History logging moved to new session 465\n",
      "\n",
      "      👋 \u001b[1mWelcome to Streamlit!\u001b[0m\n",
      "\n",
      "      If you’d like to receive helpful onboarding emails, news, offers, promotions,\n",
      "      and the occasional swag, please enter your email address below. Otherwise,\n",
      "      leave this field blank.\n",
      "\n",
      "      \u001b[34mEmail: \u001b[0m "
     ]
    }
   ],
   "source": [
    "!streamlit run dashboard.py"
   ]
  },
  {
   "cell_type": "code",
   "execution_count": 10,
   "id": "3585a5a0-366f-4f61-a239-fc65ea6ae320",
   "metadata": {},
   "outputs": [
    {
     "name": "stderr",
     "output_type": "stream",
     "text": [
      "2025-01-23 13:34:30.613 \n",
      "  \u001b[33m\u001b[1mWarning:\u001b[0m to view this Streamlit app on a browser, run it with the following\n",
      "  command:\n",
      "\n",
      "    streamlit run /Users/derekdewald/anaconda3/lib/python3.11/site-packages/ipykernel_launcher.py [ARGUMENTS]\n"
     ]
    },
    {
     "data": {
      "text/plain": [
       "DeltaGenerator()"
      ]
     },
     "execution_count": 10,
     "metadata": {},
     "output_type": "execute_result"
    }
   ],
   "source": [
    "import streamlit as st\n",
    "import plotly.express as px\n",
    "\n",
    "st.set_page_config(\n",
    "    page_title=\"Data Dictionary App\",\n",
    "    page_icon=\"📖\",\n",
    "    layout=\"wide\"\n",
    ")\n",
    "\n",
    "# Streamlit app layout\n",
    "st.title(\"Streamlit App\")\n",
    "\n",
    "# Example data\n",
    "df = px.data.iris()\n",
    "\n",
    "# Display Plotly chart\n",
    "fig = px.scatter(df, x=\"sepal_width\", y=\"sepal_length\", color=\"species\")\n",
    "st.plotly_chart(fig)\n"
   ]
  }
 ],
 "metadata": {
  "kernelspec": {
   "display_name": "Python 3 (ipykernel)",
   "language": "python",
   "name": "python3"
  },
  "language_info": {
   "codemirror_mode": {
    "name": "ipython",
    "version": 3
   },
   "file_extension": ".py",
   "mimetype": "text/x-python",
   "name": "python",
   "nbconvert_exporter": "python",
   "pygments_lexer": "ipython3",
   "version": "3.11.5"
  }
 },
 "nbformat": 4,
 "nbformat_minor": 5
}
