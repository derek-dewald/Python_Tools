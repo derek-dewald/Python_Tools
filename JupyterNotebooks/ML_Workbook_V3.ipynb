{
 "cells": [
  {
   "cell_type": "code",
   "execution_count": null,
   "id": "f3995b1c-dbb3-4ad6-9af2-7fae077f26f6",
   "metadata": {},
   "outputs": [],
   "source": [
    "# When R2 is negative, Model is performing worse than the mena.\n",
    "\n",
    "# Need to Add ability to filter ML Models Based on Dataset size.\n",
    "# Hard Code Small, Medium Large, \n",
    "# Add new columns and helpful hitns to Datasheet"
   ]
  },
  {
   "cell_type": "code",
   "execution_count": null,
   "id": "533305b9-a04a-4520-b968-a1b7fe1e81a6",
   "metadata": {},
   "outputs": [],
   "source": [
    "## As Part of ML Process Need to Develop a specific plan, including Reviewing Documentation, Updating DOcumentation "
   ]
  },
  {
   "cell_type": "code",
   "execution_count": 1,
   "id": "c515e192-8e00-4f7e-b0c1-d9d71dcb90ec",
   "metadata": {},
   "outputs": [],
   "source": [
    "import numpy as np"
   ]
  },
  {
   "cell_type": "code",
   "execution_count": 1,
   "id": "6c27a20d-2a10-423b-b6a1-66362173b2dd",
   "metadata": {},
   "outputs": [],
   "source": [
    "import matplotlib.pyplot as plt\n",
    "import pandas as pd\n",
    "import numpy as np\n",
    "import datetime\n",
    "import time\n",
    "import sys\n",
    "\n",
    "sys.path.append(\"/Users/derekdewald/Documents/Python/Github_Repo/d_py_functions\")\n",
    "\n",
    "from MLPipeline import MLPipelineSample\n",
    "#CalculateRegressionPerformance,SKLearnModelList,apply_scaling\n",
    "#from sklearn.model_selection import train_test_split\n",
    "\n",
    "from DataSets import iris_df,diabetes_df\n",
    "\n",
    "df = iris_df.copy()\n",
    "df1 = diabetes_df.copy()\n",
    "\n",
    "results_df = MLPipelineSample(df1,\n",
    "                              scaler='normal',\n",
    "                              target_column='Target',\n",
    "                              sample_override=1,\n",
    "                              run_all_size_models=1,\n",
    "                              test_size=0.2)\n",
    "\n"
   ]
  },
  {
   "cell_type": "code",
   "execution_count": null,
   "id": "cd4a5e9e-4a5e-494f-ae1f-23b2b05d2326",
   "metadata": {},
   "outputs": [],
   "source": [
    "\n",
    "from DataSets import MNIST_SKLEARN\n",
    "from MLPipeline import MLPipelineSample\n",
    "\n",
    "df,z = MNIST_SKLEARN(normalize=False,flatten=True,return_value='df')\n",
    "\n",
    "results_df = MLPipelineSample(df,\n",
    "                              scaler='normal',\n",
    "                              ml_model_type='classifier',\n",
    "                              target_column='Target',\n",
    "                              test_size=0.2)\n",
    "results_df\n"
   ]
  },
  {
   "cell_type": "code",
   "execution_count": null,
   "id": "6bbbabff-0cc7-402e-a3de-63a980da92e7",
   "metadata": {},
   "outputs": [],
   "source": []
  }
 ],
 "metadata": {
  "kernelspec": {
   "display_name": "Python 3 (ipykernel)",
   "language": "python",
   "name": "python3"
  },
  "language_info": {
   "codemirror_mode": {
    "name": "ipython",
    "version": 3
   },
   "file_extension": ".py",
   "mimetype": "text/x-python",
   "name": "python",
   "nbconvert_exporter": "python",
   "pygments_lexer": "ipython3",
   "version": "3.11.11"
  }
 },
 "nbformat": 4,
 "nbformat_minor": 5
}
