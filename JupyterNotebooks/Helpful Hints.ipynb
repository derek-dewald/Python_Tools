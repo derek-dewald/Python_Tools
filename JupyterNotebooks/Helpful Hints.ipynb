{
 "cells": [
  {
   "cell_type": "markdown",
   "id": "e59e8e5c",
   "metadata": {},
   "source": [
    "## Print Documentation of Function"
   ]
  },
  {
   "cell_type": "code",
   "execution_count": null,
   "id": "2899e299",
   "metadata": {},
   "outputs": [],
   "source": [
    "import inspect\n",
    "print(inspect.getsource(ParamterMapping))"
   ]
  }
 ],
 "metadata": {
  "kernelspec": {
   "display_name": "Python 3 (ipykernel)",
   "language": "python",
   "name": "python3"
  },
  "language_info": {
   "codemirror_mode": {
    "name": "ipython",
    "version": 3
   },
   "file_extension": ".py",
   "mimetype": "text/x-python",
   "name": "python",
   "nbconvert_exporter": "python",
   "pygments_lexer": "ipython3",
   "version": "3.12.8"
  }
 },
 "nbformat": 4,
 "nbformat_minor": 5
}
