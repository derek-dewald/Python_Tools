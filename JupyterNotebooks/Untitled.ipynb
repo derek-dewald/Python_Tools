{
 "cells": [
  {
   "cell_type": "code",
   "execution_count": 1,
   "id": "42b21193",
   "metadata": {},
   "outputs": [
    {
     "name": "stdout",
     "output_type": "stream",
     "text": [
      "1\n"
     ]
    },
    {
     "data": {
      "text/html": [
       "<h4>1. Problem Definition</h4>\n",
       "<ul>\n",
       "  <li>Clearly Defined Problem Statement</li>\n",
       "    <ul><li>Problem statement should include a clear, specific, well considered, and relate to a meaningful solvable, problem. Additionally, the problem statement should highlight why the issue is relavant, and how the problem is known to exist (Facts, Stats, Magnitude).</li></ul>\n",
       "  <li>Current State</li>\n",
       "    <ul><li>It is crirically important that problems are substantiated, clear, and comprehensively understood, at both executive and L6 levels. It is important to have 360 perspective of what the problem is, not simply 1 persons, or a small groups perspective (regardless of how influential that individual is).</li></ul>\n",
       "  <li>Historical Context</li>\n",
       "    <ul><li>You can not create a best in class solution, without knowing what has come before, why those solutoins did not fully satisfy, and where the risks lie.</li></ul>\n",
       "</ul>\n",
       "<h4>2. Problem Desired End State</h4>\n",
       "<ul>\n",
       "  <li>Specific Description of Requirements, Desires and Expectations.</li>\n",
       "    <ul><li>Needs to be very clear, such that a proposed solution can be measured as to whether it meets the criteria, while all KPIs are not necessarily defined yet several primary related to needs and expectations should be defined, and considered for plausibility. </li></ul>\n",
       "  <li>How will the tool be used?</li>\n",
       "    <ul><li>Understand very specifically, at a operational level, how will the tool be used (ie, individual a will open dashboard, they will review, if A then B, if C then D, if E then F.</li></ul>\n",
       "</ul>\n",
       "<h4>3. Model Conceptualization</h4>\n",
       "<ul>\n",
       "  <li>on problem statement and desired end state, conceptualize the types of solutions and models which could be developed and implemente</li>\n",
       "  <li>Identify types of Models and Architectures which might be relevant in solving problem and delievering fundamental components of desired end state</li>\n",
       "  <li>Estimate baseline development cost for each model architecture</li>\n",
       "  <li>Identify and define model evaluation criteria and MVP performance requirements</li>\n",
       "  <li>Ensure to include a technical description of why the particular model type is appropriate or not in the context of desired solution</li>\n",
       "  <li>If any core components of desired end state are missing from solutions, validate with Stakeholders to clarify before proceeding forward</li>\n",
       "  <li>Where possible, try to retain as much flexibility and optionality as possible, explicilty noting development time required for baseline solution</li>\n",
       "</ul>\n",
       "<h4>4. Data Collection</h4>\n",
       "<ul>\n",
       "  <li>Identify Data Elements which are required, desired, and available</li>\n",
       "  <li>Locate and Confirm Data Availability</li>\n",
       "    <ul><li>Ensure accountability of this action is clear, where data is not available what will be done, change approach, obtain data, engineer data?</li></ul>\n",
       "  <li>Completed Dictionary for all data elements included</li>\n",
       "  <li>For elements which are not available, ensure individuals are assigned as Data Stewards and a delivery dates (including refresh requirements are identified)</li>\n",
       "  <li>For new data, ensure Data Validaion, Quality and refresh frequency are explicitly dicussed and ownership for each assigned</li>\n",
       "</ul>\n",
       "<h4>5. EDA and Data Preprocessing</h4>\n",
       "<ul>\n",
       "  <li>Build Environment</li>\n",
       "    <ul><li>Poetry, Virtual Environment, Other.</li></ul>\n",
       "  <li>Explore dataset which are to be used for model creation once creat</li>\n",
       "    <ul><li>Exploration approach situatioal contigent on SME knowledge and availability. Refer to EDA - Approach.</li></ul>\n",
       "  <li>Complete EDA Checklist</li>\n",
       "  <li>Insights report</li>\n",
       "</ul>\n",
       "<h4>6. Baseline Model Selection & Validation</h4>\n",
       "<ul>\n",
       "  <li>Run initial ML pipeline, review outputs, validate model, features and preliminary results before tuning and finalization</li>\n",
       "  <li>Identify which models have best performance, rationalize performance</li>\n",
       "  <li>Identify Feature Importance, and determine if model structure is appropriate or changes are appropriate</li>\n",
       "  <li>Test alternative feature structure, explore feature engineering and explore for any unknown, or unexpected results</li>\n",
       "  <li>Speed Vs Accuracy</li>\n",
       "    <ul><li>Is it better to be Accurate, Fast or available immediately.</li></ul>\n",
       "  <li>Don't Let Perfect be the Enemy of Completion.</li>\n",
       "    <ul><li>Does the accuracy of the data change the result, if not then it's not germane to the decision </li></ul>\n",
       "</ul>\n",
       "<h4>7. Tune Model</h4>\n",
       "<ul>\n",
       "  <li>Hyperparameter tune models which meet MVP requirements, appear to be best in class and viable for implementation</li>\n",
       "</ul>\n"
      ],
      "text/plain": [
       "<IPython.core.display.HTML object>"
      ]
     },
     "metadata": {},
     "output_type": "display_data"
    }
   ],
   "source": [
    "import pandas as pd\n",
    "import numpy as np\n",
    "import sys\n",
    "sys.path.append(\"/Users/derekdewald/Documents/Python/Github_Repo/d_py_functions/\")\n",
    "\n",
    "from Organization import CreateMarkdownfromProcess\n",
    "\n",
    "CreateMarkdownfromProcess(\"Machine Learning Project\")\n"
   ]
  }
 ],
 "metadata": {
  "kernelspec": {
   "display_name": "Python 3 (ipykernel)",
   "language": "python",
   "name": "python3"
  },
  "language_info": {
   "codemirror_mode": {
    "name": "ipython",
    "version": 3
   },
   "file_extension": ".py",
   "mimetype": "text/x-python",
   "name": "python",
   "nbconvert_exporter": "python",
   "pygments_lexer": "ipython3",
   "version": "3.12.8"
  }
 },
 "nbformat": 4,
 "nbformat_minor": 5
}
