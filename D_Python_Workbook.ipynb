{
 "cells": [
  {
   "cell_type": "code",
   "execution_count": 11,
   "id": "504eaa88-f95f-4775-a043-839b02e3c018",
   "metadata": {},
   "outputs": [
    {
     "data": {
      "text/plain": [
       "'/Users/derekdewald/Documents/Python/d_functions'"
      ]
     },
     "execution_count": 11,
     "metadata": {},
     "output_type": "execute_result"
    }
   ],
   "source": [
    "import os\n",
    "\n",
    "os.getcwd()"
   ]
  },
  {
   "cell_type": "code",
   "execution_count": 21,
   "id": "b2135824-6ac6-4131-9ce6-5028a97c99b2",
   "metadata": {},
   "outputs": [
    {
     "data": {
      "text/plain": [
       "['images',\n",
       " 'README.md',\n",
       " 'D_Python_Workbook.ipynb',\n",
       " '.ipynb_checkpoints',\n",
       " '.git']"
      ]
     },
     "execution_count": 21,
     "metadata": {},
     "output_type": "execute_result"
    }
   ],
   "source": [
    "import os\n",
    "import glob\n",
    "\n",
    "def ReadDirectory(folder=\"\"):\n",
    "    if len(folder)==0:\n",
    "        return os.listdir(os.getcwd())\n",
    "    else:\n",
    "        return os.listdir(folder)\n",
    "        \n",
    "ReadDirectory()"
   ]
  },
  {
   "cell_type": "code",
   "execution_count": 23,
   "id": "01d61598-a71f-466f-8228-417163c98253",
   "metadata": {},
   "outputs": [
    {
     "data": {
      "text/plain": [
       "['kubernetes.png', 'spark00.png', 'cosine_similiarity.png', 'readme']"
      ]
     },
     "execution_count": 23,
     "metadata": {},
     "output_type": "execute_result"
    }
   ],
   "source": [
    "ReadDirectory('/Users/derekdewald/Documents/Python/d_functions/images')"
   ]
  },
  {
   "cell_type": "code",
   "execution_count": null,
   "id": "591230ef-918e-47d9-bcfb-3df4420e2b98",
   "metadata": {},
   "outputs": [],
   "source": []
  },
  {
   "cell_type": "code",
   "execution_count": null,
   "id": "e76e2c4c-9da4-40f3-98d6-fa27630b87aa",
   "metadata": {},
   "outputs": [],
   "source": [
    "![Alt Text](https://raw.githubusercontent.com/derek-dewald/d_functions/main/images/cosine_similiarity.png)\n"
   ]
  },
  {
   "cell_type": "markdown",
   "id": "86d300de-d71d-4995-9dee-019aa0e1adca",
   "metadata": {},
   "source": [
    "## Cosine Similarity"
   ]
  },
  {
   "cell_type": "markdown",
   "id": "0f217b6b-8bb7-4a4a-bceb-a13ef21db2f7",
   "metadata": {},
   "source": [
    "![Alt Text](https://raw.githubusercontent.com/derek-dewald/d_functions/main/images/cosine_similiarity.png)\n"
   ]
  }
 ],
 "metadata": {
  "kernelspec": {
   "display_name": "Python 3 (ipykernel)",
   "language": "python",
   "name": "python3"
  },
  "language_info": {
   "codemirror_mode": {
    "name": "ipython",
    "version": 3
   },
   "file_extension": ".py",
   "mimetype": "text/x-python",
   "name": "python",
   "nbconvert_exporter": "python",
   "pygments_lexer": "ipython3",
   "version": "3.11.5"
  }
 },
 "nbformat": 4,
 "nbformat_minor": 5
}
