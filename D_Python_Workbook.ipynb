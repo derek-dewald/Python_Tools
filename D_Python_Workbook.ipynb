{
 "cells": [
  {
   "cell_type": "code",
   "execution_count": null,
   "id": "32536c03-fd04-4c59-9f45-a6426c1d25cc",
   "metadata": {},
   "outputs": [],
   "source": [
    "#![Alt Text](https://raw.githubusercontent.com/derek-dewald/d_functions/main/images/cosine_similiarity.png)\n"
   ]
  },
  {
   "cell_type": "code",
   "execution_count": 5,
   "id": "504eaa88-f95f-4775-a043-839b02e3c018",
   "metadata": {},
   "outputs": [
    {
     "data": {
      "text/plain": [
       "'/Users/derekdewald/Documents/Python/Github_Repo'"
      ]
     },
     "execution_count": 5,
     "metadata": {},
     "output_type": "execute_result"
    }
   ],
   "source": [
    "import os\n",
    "\n",
    "os.getcwd()"
   ]
  },
  {
   "cell_type": "code",
   "execution_count": 4,
   "id": "b2135824-6ac6-4131-9ce6-5028a97c99b2",
   "metadata": {},
   "outputs": [
    {
     "data": {
      "text/plain": [
       "['Untitled Folder',\n",
       " '.DS_Store',\n",
       " 'images',\n",
       " 'README.md',\n",
       " 'D_Python_Workbook.ipynb',\n",
       " '.ipynb_checkpoints',\n",
       " '.git',\n",
       " 'd_py_functions',\n",
       " 'Spark']"
      ]
     },
     "execution_count": 4,
     "metadata": {},
     "output_type": "execute_result"
    }
   ],
   "source": [
    "import os\n",
    "import glob\n",
    "\n",
    "def ReadDirectory(folder=\"\"):\n",
    "    if len(folder)==0:\n",
    "        return os.listdir(os.getcwd())\n",
    "    else:\n",
    "        return os.listdir(folder)\n",
    "        \n",
    "ReadDirectory()"
   ]
  },
  {
   "cell_type": "code",
   "execution_count": 6,
   "id": "01d61598-a71f-466f-8228-417163c98253",
   "metadata": {},
   "outputs": [
    {
     "data": {
      "text/plain": [
       "['confusion_matrix.png',\n",
       " 'bias.png',\n",
       " '.DS_Store',\n",
       " 'kubernetes.png',\n",
       " 'cosine_similiarity.png',\n",
       " 'spark.png',\n",
       " 'SQL_Cheatsheet.png',\n",
       " 'scikit_learn_models.png',\n",
       " 'harmonic_mean.png',\n",
       " 'readme',\n",
       " 'ML_AI_Significance_Chart.png',\n",
       " 'ImpactOutliers.png',\n",
       " 'AI_ML_DL_Visual.png',\n",
       " 'bias1.png',\n",
       " 'DataVsModel.png',\n",
       " 'Loss_Functions.png']"
      ]
     },
     "execution_count": 6,
     "metadata": {},
     "output_type": "execute_result"
    }
   ],
   "source": [
    "ReadDirectory('/Users/derekdewald/Documents/Python/Github_Repo/images')"
   ]
  },
  {
   "cell_type": "markdown",
   "id": "2490e979-e88b-4816-a7e2-437e07ce3e1b",
   "metadata": {},
   "source": [
    "![Alt Text](https://raw.githubusercontent.com/derek-dewald/d_functions/main/images/bias.png)"
   ]
  },
  {
   "cell_type": "markdown",
   "id": "a385ae34-c5bd-4e7a-8ecb-6efe9349dedb",
   "metadata": {},
   "source": [
    "![Alt Text](https://raw.githubusercontent.com/derek-dewald/d_functions/main/images/bias1.png)"
   ]
  },
  {
   "cell_type": "code",
   "execution_count": 15,
   "id": "a721beaf-0c59-41bf-a17a-eaffda5a8644",
   "metadata": {},
   "outputs": [
    {
     "name": "stdout",
     "output_type": "stream",
     "text": [
      "![Alt Text](https://raw.githubusercontent.com/derek-dewald/d_functions/main/images/confusion_matrix.png)\n",
      "![Alt Text](https://raw.githubusercontent.com/derek-dewald/d_functions/main/images/bias.png)\n",
      "![Alt Text](https://raw.githubusercontent.com/derek-dewald/d_functions/main/images/kubernetes.png)\n",
      "![Alt Text](https://raw.githubusercontent.com/derek-dewald/d_functions/main/images/cosine_similiarity.png)\n",
      "![Alt Text](https://raw.githubusercontent.com/derek-dewald/d_functions/main/images/spark.png)\n",
      "![Alt Text](https://raw.githubusercontent.com/derek-dewald/d_functions/main/images/SQL_Cheatsheet.png)\n",
      "![Alt Text](https://raw.githubusercontent.com/derek-dewald/d_functions/main/images/scikit_learn_models.png)\n",
      "![Alt Text](https://raw.githubusercontent.com/derek-dewald/d_functions/main/images/harmonic_mean.png)\n",
      "![Alt Text](https://raw.githubusercontent.com/derek-dewald/d_functions/main/images/ML_AI_Significance_Chart.png)\n",
      "![Alt Text](https://raw.githubusercontent.com/derek-dewald/d_functions/main/images/ImpactOutliers.png)\n",
      "![Alt Text](https://raw.githubusercontent.com/derek-dewald/d_functions/main/images/AI_ML_DL_Visual.png)\n",
      "![Alt Text](https://raw.githubusercontent.com/derek-dewald/d_functions/main/images/bias1.png)\n",
      "![Alt Text](https://raw.githubusercontent.com/derek-dewald/d_functions/main/images/DataVsModel.png)\n",
      "![Alt Text](https://raw.githubusercontent.com/derek-dewald/d_functions/main/images/Loss_Functions.png)\n"
     ]
    }
   ],
   "source": [
    "import os\n",
    "for x in [x for x in os.listdir('images/') if x.find('.png')!=-1]:\n",
    "    string = '[Alt Text](https://raw.githubusercontent.com/derek-dewald/d_functions/main/images/'\n",
    "    print(f\"!{string}{x})\")"
   ]
  },
  {
   "cell_type": "code",
   "execution_count": null,
   "id": "a1628ae1-368b-44b2-a0a9-2effe8f974b5",
   "metadata": {},
   "outputs": [],
   "source": []
  },
  {
   "cell_type": "markdown",
   "id": "f680801a-3c84-4306-ad61-b73dc3bd5663",
   "metadata": {},
   "source": [
    "![Alt Text](https://raw.githubusercontent.com/derek-dewald/d_functions/main/images/DataVsModel.png)"
   ]
  },
  {
   "cell_type": "markdown",
   "id": "d0c7d3ca-fe44-45de-8f54-378b57b40225",
   "metadata": {},
   "source": [
    "![Alt Text](https://raw.githubusercontent.com/derek-dewald/d_functions/main/images/bias1.png)"
   ]
  },
  {
   "cell_type": "markdown",
   "id": "8d011e87-7339-47f3-898b-5bb39e88c068",
   "metadata": {},
   "source": [
    "![Alt Text](https://raw.githubusercontent.com/derek-dewald/d_functions/main/images/Loss_Functions.png)"
   ]
  },
  {
   "cell_type": "code",
   "execution_count": null,
   "id": "9266b1be-c4fa-4d1e-b3f4-ef06cc40ef6b",
   "metadata": {},
   "outputs": [],
   "source": []
  },
  {
   "cell_type": "markdown",
   "id": "e23ef50c-1f54-4d40-b030-b39c5bbbf9ff",
   "metadata": {},
   "source": [
    "![Alt Text](https://raw.githubusercontent.com/derek-dewald/d_functions/main/images/scikit_learn_models.png)"
   ]
  },
  {
   "cell_type": "markdown",
   "id": "eeb0e795-1ccf-4e2f-a450-37c935393671",
   "metadata": {},
   "source": [
    "### Confusion Matrix"
   ]
  },
  {
   "cell_type": "markdown",
   "id": "92fa31f0-33e2-4137-9770-83e849d47369",
   "metadata": {},
   "source": [
    "![Alt Text](https://raw.githubusercontent.com/derek-dewald/d_functions/main/images/confusion_matrix.png)"
   ]
  },
  {
   "cell_type": "markdown",
   "id": "86d300de-d71d-4995-9dee-019aa0e1adca",
   "metadata": {},
   "source": [
    "## Cosine Similarity"
   ]
  },
  {
   "cell_type": "markdown",
   "id": "0f217b6b-8bb7-4a4a-bceb-a13ef21db2f7",
   "metadata": {},
   "source": [
    "![Alt Text](https://raw.githubusercontent.com/derek-dewald/d_functions/main/images/cosine_similiarity.png)\n"
   ]
  }
 ],
 "metadata": {
  "kernelspec": {
   "display_name": "Python 3 (ipykernel)",
   "language": "python",
   "name": "python3"
  },
  "language_info": {
   "codemirror_mode": {
    "name": "ipython",
    "version": 3
   },
   "file_extension": ".py",
   "mimetype": "text/x-python",
   "name": "python",
   "nbconvert_exporter": "python",
   "pygments_lexer": "ipython3",
   "version": "3.11.5"
  }
 },
 "nbformat": 4,
 "nbformat_minor": 5
}
