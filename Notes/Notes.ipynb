{
 "cells": [
  {
   "cell_type": "code",
   "execution_count": null,
   "id": "fbec6c1f-f2df-46b2-9d6a-69a57d9c2190",
   "metadata": {},
   "outputs": [],
   "source": []
  },
  {
   "cell_type": "code",
   "execution_count": null,
   "id": "84986c5b-378f-40a3-b2fd-65f33c931ff8",
   "metadata": {},
   "outputs": [],
   "source": []
  },
  {
   "cell_type": "code",
   "execution_count": null,
   "id": "8da00e0e-102d-445f-8c29-016abc1e9350",
   "metadata": {},
   "outputs": [],
   "source": []
  },
  {
   "cell_type": "markdown",
   "id": "8cdba62e",
   "metadata": {},
   "source": [
    "df[~df['column1'].str.contains('[a-zA-Z]', regex=True, na=False)]\n",
    ".query(“_merge == “left_only”’).drop(“_merge”,axis=1)\n",
    ".sample(frac=1)\n",
    "\n",
    ".to_string(max_colwidth=1000, index=False)\n"
   ]
  },
  {
   "cell_type": "markdown",
   "id": "8ba1581a",
   "metadata": {},
   "source": [
    "\n",
    "Elements which must be considered when developing systems. Speed of Model (Training, Predicition), Accuracy of Model, there can be a trade off, depending on use case.\n",
    "Must always consider what a machine learning model is doing, solving a mathematical equation, using a specific optimization function.\n",
    "Components of a ML system, Model, Loss Function, Learning Rate. Hyperparameters\n",
    "Must consider what statistical assumptions or requirements are prevalent in order to determine the validity of your work.\n",
    "\n",
    "Topic\t\tComment\n",
    "Decision Making\t\tMind fills in the blanks whe insufficient informaiton exists\n",
    "Decision Making\t\tBeing a better decision maker means being a better predictor of the set of possibility.\n",
    "Decision Making\t\tDecision Quality is not strictly related to the outcome, circumstance plays a material role.\n",
    "\t\tOperational data is usually transactional data that is generated and stored by applications, often in a relational or non-relational database.\n",
    "\t\tAnalytical data is data that has been optimized for analysis and reporting, often in a data warehouse.\n",
    "\t\tData pipelines are used to orchestrate activities that transfer and transform data. Pipelines are the primary way in which data engineers implement repeatable extract, transform, and load (ETL) solutions that can be triggered based on a schedule or in response to events.\n",
    "\t\tA data lake is a storage repository that holds large amounts of data in native, raw formats. Data lake stores are optimized for scaling to massive volumes (terabytes or petabytes) of data. The data typically comes from multiple heterogeneous sources, and may be structured, semi-structured, or unstructured\n",
    "\t\tAzure Data Lake Storage Gen2 builds on blob storage and optimizes I/O of high-volume data by using a hierarchical namespace that organizes blob data into directories, and stores metadata about each directory and the files within it. This structure allows operations, such as directory renames and deletes, to be performed in a single atomic operation. Flat namespaces, by contrast, require several operations proportionate to the number of objects in the structure. Hierarchical namespaces keep the data organized, which yields better storage and retrieval performance for an analytical use case and lowers the cost of analysis.\n",
    "\t\tIn Azure Blob storage, you can store large amounts of unstructured (\"object\") data in a flat namespace within a blob container. Blob names can include \"/\" characters to organize blobs into virtual \"folders\", but in terms of blob manageability the blobs are stored as a single-level hierarchy in a flat namespace.\n",
    "\t\t\n",
    "\tParadox\tThe Average Shirt Fits No One. "
   ]
  },
  {
   "cell_type": "code",
   "execution_count": 4,
   "id": "c9f00fee",
   "metadata": {},
   "outputs": [],
   "source": []
  },
  {
   "cell_type": "code",
   "execution_count": 1,
   "id": "79136fff",
   "metadata": {},
   "outputs": [],
   "source": [
    "notes_dict = {}\n",
    "\n",
    "def ADD_NOTE(term, comment, type_='n',dict_=notes_dict,):\n",
    "    if term not in dict_:\n",
    "        dict_[term] = {'Definition': '', 'Comments': []}  # Ensure proper structure\n",
    "    if type_ == 'n':\n",
    "        dict_[term]['Comments'].append(comment)  # Append comment correctly\n",
    "    else:\n",
    "        dict_[term]['Definition'] = comment  # Store definition correctly"
   ]
  },
  {
   "cell_type": "markdown",
   "id": "3ae99714",
   "metadata": {},
   "source": []
  },
  {
   "cell_type": "markdown",
   "id": "c156aa7a",
   "metadata": {},
   "source": [
    "\n",
    "\n",
    "- \\( VIF_i \\) is the Variance Inflation Factor for the \\( i \\)th predictor variable.  \n",
    "- \\( R_i^2 \\) is the coefficient of determination obtained by regressing \\( X\n",
    "\n",
    "- **\\( VIF_i \\)**: Variance Inflation Factor for the \\( i \\)th predictor variable.\n",
    "- **\\( R^2_i \\)**: Coefficient of determination obtained by regressing \\( X"
   ]
  },
  {
   "cell_type": "code",
   "execution_count": 3,
   "id": "b9ed0f4b",
   "metadata": {},
   "outputs": [
    {
     "data": {
      "text/plain": [
       "{'Machine Learning': {'Definition': '',\n",
       "  'Comments': ['When developing a model, must attempt to consciously make the trade off between speed and precision, with repect to both building and performance.',\n",
       "   'Why does a ML model work (or not). If data is sampled from a similiar distribution (unbias), the are sufficient examples, then law of large numbers should hold and model should be accurate']}}"
      ]
     },
     "execution_count": 3,
     "metadata": {},
     "output_type": "execute_result"
    }
   ],
   "source": [
    "\n",
    "ADD_NOTE(term='Machine Learning',\n",
    "         comment='When developing a model, must attempt to consciously make the trade off between speed and precision, with repect to both building and performance.')\n",
    "\n",
    "\n",
    "ADD_NOTE(term='Machine Learning',\n",
    "         comment='Why does a ML model work (or not). If data is sampled from a similiar distribution (unbias), the are sufficient examples, then law of large numbers should hold and model should be accurate')\n",
    "\n",
    "\n",
    "ADD_NOTE('Scalar', 'Numerical Value')\n",
    "ADD_NOTE('Vector', 'Ordered list of Scalars')\n",
    "ADD_NOTE('Matrix', 'Rectangular array of numbers arranged in rows and columns')\n",
    "\n"
   ]
  },
  {
   "cell_type": "code",
   "execution_count": null,
   "id": "8cb66261",
   "metadata": {},
   "outputs": [],
   "source": []
  }
 ],
 "metadata": {
  "kernelspec": {
   "display_name": "Python 3 (ipykernel)",
   "language": "python",
   "name": "python3"
  },
  "language_info": {
   "codemirror_mode": {
    "name": "ipython",
    "version": 3
   },
   "file_extension": ".py",
   "mimetype": "text/x-python",
   "name": "python",
   "nbconvert_exporter": "python",
   "pygments_lexer": "ipython3",
   "version": "3.11.5"
  }
 },
 "nbformat": 4,
 "nbformat_minor": 5
}
