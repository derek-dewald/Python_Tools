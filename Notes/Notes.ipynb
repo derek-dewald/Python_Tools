{
 "cells": [
  {
   "cell_type": "markdown",
   "id": "8cdba62e",
   "metadata": {},
   "source": [
    "# Unbiased Estimator and Bayes' Formula\n",
    "\n",
    "## Unbiased Estimator\n",
    "\n",
    "### **Definition:**\n",
    "An **unbiased estimator** is a statistical estimator whose expected value is equal to the parameter it is estimating. Formally, an estimator \\( \\hat{\\theta} \\) of a parameter \\( \\theta \\) is **unbiased** if:\n",
    "\n",
    "$$\n",
    "E[\\hat{\\theta}] = \\theta\n",
    "$$\n",
    "\n",
    "This means that, on average, the estimator correctly estimates the true parameter value.\n",
    "\n",
    "### **Example:**\n",
    "Consider a random sample \\( X_1, X_2, \\dots, X_n \\) drawn from a population with mean \\( \\mu \\). The sample mean:\n",
    "\n",
    "$$\n",
    "\\hat{\\mu} = \\frac{1}{n} \\sum_{i=1}^{n} X_i\n",
    "$$\n",
    "\n",
    "is an **unbiased estimator** of the population mean \\( \\mu \\), since:\n",
    "\n",
    "$$\n",
    "E[\\hat{\\mu}] = \\mu\n",
    "$$\n",
    "\n",
    "This implies that the expected value of the sample mean is equal to the true population mean.\n"
   ]
  },
  {
   "cell_type": "markdown",
   "id": "8ba1581a",
   "metadata": {},
   "source": [
    "\n"
   ]
  },
  {
   "cell_type": "code",
   "execution_count": 4,
   "id": "c9f00fee",
   "metadata": {},
   "outputs": [],
   "source": []
  },
  {
   "cell_type": "code",
   "execution_count": 1,
   "id": "79136fff",
   "metadata": {},
   "outputs": [],
   "source": [
    "notes_dict = {}\n",
    "\n",
    "def ADD_NOTE(term, comment, type_='n',dict_=notes_dict,):\n",
    "    if term not in dict_:\n",
    "        dict_[term] = {'Definition': '', 'Comments': []}  # Ensure proper structure\n",
    "    if type_ == 'n':\n",
    "        dict_[term]['Comments'].append(comment)  # Append comment correctly\n",
    "    else:\n",
    "        dict_[term]['Definition'] = comment  # Store definition correctly"
   ]
  },
  {
   "cell_type": "code",
   "execution_count": 3,
   "id": "b9ed0f4b",
   "metadata": {},
   "outputs": [
    {
     "data": {
      "text/plain": [
       "{'Machine Learning': {'Definition': '',\n",
       "  'Comments': ['When developing a model, must attempt to consciously make the trade off between speed and precision, with repect to both building and performance.',\n",
       "   'Why does a ML model work (or not). If data is sampled from a similiar distribution (unbias), the are sufficient examples, then law of large numbers should hold and model should be accurate']}}"
      ]
     },
     "execution_count": 3,
     "metadata": {},
     "output_type": "execute_result"
    }
   ],
   "source": [
    "\n",
    "ADD_NOTE(term='Machine Learning',\n",
    "         comment='When developing a model, must attempt to consciously make the trade off between speed and precision, with repect to both building and performance.')\n",
    "\n",
    "\n",
    "ADD_NOTE(term='Machine Learning',\n",
    "         comment='Why does a ML model work (or not). If data is sampled from a similiar distribution (unbias), the are sufficient examples, then law of large numbers should hold and model should be accurate')\n",
    "\n",
    "\n",
    "ADD_NOTE('Scalar', 'Numerical Value')\n",
    "ADD_NOTE('Vector', 'Ordered list of Scalars')\n",
    "ADD_NOTE('Matrix', 'Rectangular array of numbers arranged in rows and columns')\n"
   ]
  },
  {
   "cell_type": "code",
   "execution_count": null,
   "id": "8cb66261",
   "metadata": {},
   "outputs": [],
   "source": []
  }
 ],
 "metadata": {
  "kernelspec": {
   "display_name": "Python 3 (ipykernel)",
   "language": "python",
   "name": "python3"
  },
  "language_info": {
   "codemirror_mode": {
    "name": "ipython",
    "version": 3
   },
   "file_extension": ".py",
   "mimetype": "text/x-python",
   "name": "python",
   "nbconvert_exporter": "python",
   "pygments_lexer": "ipython3",
   "version": "3.12.8"
  }
 },
 "nbformat": 4,
 "nbformat_minor": 5
}
