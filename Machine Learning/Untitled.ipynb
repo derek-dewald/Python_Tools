{
 "cells": [
  {
   "cell_type": "code",
   "execution_count": 1,
   "id": "cf85de7e-0bd3-418e-afd7-ff41f0b28567",
   "metadata": {},
   "outputs": [
    {
     "name": "stdout",
     "output_type": "stream",
     "text": [
      "Collecting streamlit-aggrid\n",
      "  Downloading streamlit_aggrid-1.1.4.post1-py3-none-any.whl.metadata (9.2 kB)\n",
      "Requirement already satisfied: pandas>=1.4.0 in /Users/derekdewald/anaconda3/envs/D2/lib/python3.11/site-packages (from streamlit-aggrid) (2.2.3)\n",
      "Collecting python-decouple (from streamlit-aggrid)\n",
      "  Downloading python_decouple-3.8-py3-none-any.whl.metadata (14 kB)\n",
      "Requirement already satisfied: streamlit>=1.2 in /Users/derekdewald/anaconda3/envs/D2/lib/python3.11/site-packages (from streamlit-aggrid) (1.45.0)\n",
      "Requirement already satisfied: numpy>=1.23.2 in /Users/derekdewald/anaconda3/envs/D2/lib/python3.11/site-packages (from pandas>=1.4.0->streamlit-aggrid) (2.0.1)\n",
      "Requirement already satisfied: python-dateutil>=2.8.2 in /Users/derekdewald/anaconda3/envs/D2/lib/python3.11/site-packages (from pandas>=1.4.0->streamlit-aggrid) (2.9.0.post0)\n",
      "Requirement already satisfied: pytz>=2020.1 in /Users/derekdewald/anaconda3/envs/D2/lib/python3.11/site-packages (from pandas>=1.4.0->streamlit-aggrid) (2024.1)\n",
      "Requirement already satisfied: tzdata>=2022.7 in /Users/derekdewald/anaconda3/envs/D2/lib/python3.11/site-packages (from pandas>=1.4.0->streamlit-aggrid) (2023.3)\n",
      "Requirement already satisfied: altair<6,>=4.0 in /Users/derekdewald/anaconda3/envs/D2/lib/python3.11/site-packages (from streamlit>=1.2->streamlit-aggrid) (5.5.0)\n",
      "Requirement already satisfied: blinker<2,>=1.5.0 in /Users/derekdewald/anaconda3/envs/D2/lib/python3.11/site-packages (from streamlit>=1.2->streamlit-aggrid) (1.9.0)\n",
      "Requirement already satisfied: cachetools<6,>=4.0 in /Users/derekdewald/anaconda3/envs/D2/lib/python3.11/site-packages (from streamlit>=1.2->streamlit-aggrid) (5.5.1)\n",
      "Requirement already satisfied: click<9,>=7.0 in /Users/derekdewald/anaconda3/envs/D2/lib/python3.11/site-packages (from streamlit>=1.2->streamlit-aggrid) (8.1.8)\n",
      "Requirement already satisfied: packaging<25,>=20 in /Users/derekdewald/anaconda3/envs/D2/lib/python3.11/site-packages (from streamlit>=1.2->streamlit-aggrid) (24.2)\n",
      "Requirement already satisfied: pillow<12,>=7.1.0 in /Users/derekdewald/anaconda3/envs/D2/lib/python3.11/site-packages (from streamlit>=1.2->streamlit-aggrid) (11.1.0)\n",
      "Requirement already satisfied: protobuf<7,>=3.20 in /Users/derekdewald/anaconda3/envs/D2/lib/python3.11/site-packages (from streamlit>=1.2->streamlit-aggrid) (4.25.3)\n",
      "Requirement already satisfied: pyarrow>=7.0 in /Users/derekdewald/anaconda3/envs/D2/lib/python3.11/site-packages (from streamlit>=1.2->streamlit-aggrid) (17.0.0)\n",
      "Requirement already satisfied: requests<3,>=2.27 in /Users/derekdewald/anaconda3/envs/D2/lib/python3.11/site-packages (from streamlit>=1.2->streamlit-aggrid) (2.32.3)\n",
      "Requirement already satisfied: tenacity<10,>=8.1.0 in /Users/derekdewald/anaconda3/envs/D2/lib/python3.11/site-packages (from streamlit>=1.2->streamlit-aggrid) (9.1.2)\n",
      "Requirement already satisfied: toml<2,>=0.10.1 in /Users/derekdewald/anaconda3/envs/D2/lib/python3.11/site-packages (from streamlit>=1.2->streamlit-aggrid) (0.10.2)\n",
      "Requirement already satisfied: typing-extensions<5,>=4.4.0 in /Users/derekdewald/anaconda3/envs/D2/lib/python3.11/site-packages (from streamlit>=1.2->streamlit-aggrid) (4.12.2)\n",
      "Requirement already satisfied: gitpython!=3.1.19,<4,>=3.0.7 in /Users/derekdewald/anaconda3/envs/D2/lib/python3.11/site-packages (from streamlit>=1.2->streamlit-aggrid) (3.1.43)\n",
      "Requirement already satisfied: pydeck<1,>=0.8.0b4 in /Users/derekdewald/anaconda3/envs/D2/lib/python3.11/site-packages (from streamlit>=1.2->streamlit-aggrid) (0.9.1)\n",
      "Requirement already satisfied: tornado<7,>=6.0.3 in /Users/derekdewald/anaconda3/envs/D2/lib/python3.11/site-packages (from streamlit>=1.2->streamlit-aggrid) (6.4.2)\n",
      "Requirement already satisfied: jinja2 in /Users/derekdewald/anaconda3/envs/D2/lib/python3.11/site-packages (from altair<6,>=4.0->streamlit>=1.2->streamlit-aggrid) (3.1.6)\n",
      "Requirement already satisfied: jsonschema>=3.0 in /Users/derekdewald/anaconda3/envs/D2/lib/python3.11/site-packages (from altair<6,>=4.0->streamlit>=1.2->streamlit-aggrid) (4.23.0)\n",
      "Requirement already satisfied: narwhals>=1.14.2 in /Users/derekdewald/anaconda3/envs/D2/lib/python3.11/site-packages (from altair<6,>=4.0->streamlit>=1.2->streamlit-aggrid) (1.38.2)\n",
      "Requirement already satisfied: gitdb<5,>=4.0.1 in /Users/derekdewald/anaconda3/envs/D2/lib/python3.11/site-packages (from gitpython!=3.1.19,<4,>=3.0.7->streamlit>=1.2->streamlit-aggrid) (4.0.7)\n",
      "Requirement already satisfied: six>=1.5 in /Users/derekdewald/anaconda3/envs/D2/lib/python3.11/site-packages (from python-dateutil>=2.8.2->pandas>=1.4.0->streamlit-aggrid) (1.17.0)\n",
      "Requirement already satisfied: charset-normalizer<4,>=2 in /Users/derekdewald/anaconda3/envs/D2/lib/python3.11/site-packages (from requests<3,>=2.27->streamlit>=1.2->streamlit-aggrid) (3.3.2)\n",
      "Requirement already satisfied: idna<4,>=2.5 in /Users/derekdewald/anaconda3/envs/D2/lib/python3.11/site-packages (from requests<3,>=2.27->streamlit>=1.2->streamlit-aggrid) (3.7)\n",
      "Requirement already satisfied: urllib3<3,>=1.21.1 in /Users/derekdewald/anaconda3/envs/D2/lib/python3.11/site-packages (from requests<3,>=2.27->streamlit>=1.2->streamlit-aggrid) (2.3.0)\n",
      "Requirement already satisfied: certifi>=2017.4.17 in /Users/derekdewald/anaconda3/envs/D2/lib/python3.11/site-packages (from requests<3,>=2.27->streamlit>=1.2->streamlit-aggrid) (2025.4.26)\n",
      "Requirement already satisfied: smmap<5,>=3.0.1 in /Users/derekdewald/anaconda3/envs/D2/lib/python3.11/site-packages (from gitdb<5,>=4.0.1->gitpython!=3.1.19,<4,>=3.0.7->streamlit>=1.2->streamlit-aggrid) (4.0.0)\n",
      "Requirement already satisfied: MarkupSafe>=2.0 in /Users/derekdewald/anaconda3/envs/D2/lib/python3.11/site-packages (from jinja2->altair<6,>=4.0->streamlit>=1.2->streamlit-aggrid) (3.0.2)\n",
      "Requirement already satisfied: attrs>=22.2.0 in /Users/derekdewald/anaconda3/envs/D2/lib/python3.11/site-packages (from jsonschema>=3.0->altair<6,>=4.0->streamlit>=1.2->streamlit-aggrid) (24.3.0)\n",
      "Requirement already satisfied: jsonschema-specifications>=2023.03.6 in /Users/derekdewald/anaconda3/envs/D2/lib/python3.11/site-packages (from jsonschema>=3.0->altair<6,>=4.0->streamlit>=1.2->streamlit-aggrid) (2023.7.1)\n",
      "Requirement already satisfied: referencing>=0.28.4 in /Users/derekdewald/anaconda3/envs/D2/lib/python3.11/site-packages (from jsonschema>=3.0->altair<6,>=4.0->streamlit>=1.2->streamlit-aggrid) (0.30.2)\n",
      "Requirement already satisfied: rpds-py>=0.7.1 in /Users/derekdewald/anaconda3/envs/D2/lib/python3.11/site-packages (from jsonschema>=3.0->altair<6,>=4.0->streamlit>=1.2->streamlit-aggrid) (0.22.3)\n",
      "Downloading streamlit_aggrid-1.1.4.post1-py3-none-any.whl (4.9 MB)\n",
      "\u001b[2K   \u001b[90m━━━━━━━━━━━━━━━━━━━━━━━━━━━━━━━━━━━━━━━━\u001b[0m \u001b[32m4.9/4.9 MB\u001b[0m \u001b[31m11.6 MB/s\u001b[0m eta \u001b[36m0:00:00\u001b[0ma \u001b[36m0:00:01\u001b[0m\n",
      "Downloading python_decouple-3.8-py3-none-any.whl (9.9 kB)\n",
      "Installing collected packages: python-decouple, streamlit-aggrid\n",
      "Successfully installed python-decouple-3.8 streamlit-aggrid-1.1.4.post1\n"
     ]
    }
   ],
   "source": []
  },
  {
   "cell_type": "code",
   "execution_count": null,
   "id": "9ea6258b-e859-4a7e-a7b3-16471700a86d",
   "metadata": {},
   "outputs": [],
   "source": []
  }
 ],
 "metadata": {
  "kernelspec": {
   "display_name": "Python 3 (ipykernel)",
   "language": "python",
   "name": "python3"
  },
  "language_info": {
   "codemirror_mode": {
    "name": "ipython",
    "version": 3
   },
   "file_extension": ".py",
   "mimetype": "text/x-python",
   "name": "python",
   "nbconvert_exporter": "python",
   "pygments_lexer": "ipython3",
   "version": "3.11.11"
  }
 },
 "nbformat": 4,
 "nbformat_minor": 5
}
