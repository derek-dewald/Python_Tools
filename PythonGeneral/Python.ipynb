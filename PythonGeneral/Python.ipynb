{
 "cells": [
  {
   "cell_type": "code",
   "execution_count": null,
   "id": "32536c03-fd04-4c59-9f45-a6426c1d25cc",
   "metadata": {},
   "outputs": [],
   "source": [
    "#![Alt Text](https://raw.githubusercontent.com/derek-dewald/d_functions/main/images/cosine_similiarity.png)\n"
   ]
  },
  {
   "cell_type": "markdown",
   "id": "4de2d0f2-fdb5-4327-b747-1d64d6208f3e",
   "metadata": {},
   "source": [
    "[Alt Text](https://raw.githubusercontent.com/derek-dewald/d_functions/main/images/cosine_similiarity.png)"
   ]
  },
  {
   "cell_type": "code",
   "execution_count": 1,
   "id": "b2135824-6ac6-4131-9ce6-5028a97c99b2",
   "metadata": {},
   "outputs": [],
   "source": [
    "from d_py_functions.SharedFolder import ReadDirectory"
   ]
  },
  {
   "cell_type": "code",
   "execution_count": 8,
   "id": "75689b5f-3551-4dba-8bb2-11b3e3135564",
   "metadata": {},
   "outputs": [
    {
     "ename": "NameError",
     "evalue": "name 'ReadDirectory' is not defined",
     "output_type": "error",
     "traceback": [
      "\u001b[0;31m---------------------------------------------------------------------------\u001b[0m",
      "\u001b[0;31mNameError\u001b[0m                                 Traceback (most recent call last)",
      "Cell \u001b[0;32mIn[8], line 2\u001b[0m\n\u001b[1;32m      1\u001b[0m \u001b[38;5;28;01mimport\u001b[39;00m \u001b[38;5;21;01mos\u001b[39;00m\n\u001b[0;32m----> 2\u001b[0m \u001b[38;5;28;01mfor\u001b[39;00m x \u001b[38;5;129;01min\u001b[39;00m ReadDirectory(\u001b[38;5;124m'\u001b[39m\u001b[38;5;124m/Users/derekdewald/Documents/Python/Github_Repo/images\u001b[39m\u001b[38;5;124m'\u001b[39m):\n\u001b[1;32m      3\u001b[0m     string \u001b[38;5;241m=\u001b[39m \u001b[38;5;124m'\u001b[39m\u001b[38;5;124m[Alt Text](https://raw.githubusercontent.com/derek-dewald/d_functions/main/images/\u001b[39m\u001b[38;5;124m'\u001b[39m\n\u001b[1;32m      4\u001b[0m     \u001b[38;5;28mprint\u001b[39m(\u001b[38;5;124mf\u001b[39m\u001b[38;5;124m\"\u001b[39m\u001b[38;5;124m!\u001b[39m\u001b[38;5;132;01m{\u001b[39;00mstring\u001b[38;5;132;01m}\u001b[39;00m\u001b[38;5;132;01m{\u001b[39;00mx\u001b[38;5;132;01m}\u001b[39;00m\u001b[38;5;124m)\u001b[39m\u001b[38;5;124m\"\u001b[39m)\n",
      "\u001b[0;31mNameError\u001b[0m: name 'ReadDirectory' is not defined"
     ]
    }
   ],
   "source": [
    "import os\n",
    "for x in ReadDirectory('/Users/derekdewald/Documents/Python/Github_Repo/images'):\n",
    "    string = '[Alt Text](https://raw.githubusercontent.com/derek-dewald/d_functions/main/images/'\n",
    "    print(f\"!{string}{x})\")"
   ]
  },
  {
   "cell_type": "markdown",
   "id": "fe8da00d-9c08-4247-94fa-cc74d67d3ab9",
   "metadata": {},
   "source": [
    "## Bias and Variance"
   ]
  },
  {
   "cell_type": "markdown",
   "id": "2490e979-e88b-4816-a7e2-437e07ce3e1b",
   "metadata": {},
   "source": [
    "![Alt Text](https://raw.githubusercontent.com/derek-dewald/d_functions/main/images/bias.png)"
   ]
  },
  {
   "cell_type": "markdown",
   "id": "a385ae34-c5bd-4e7a-8ecb-6efe9349dedb",
   "metadata": {},
   "source": [
    "![Alt Text](https://raw.githubusercontent.com/derek-dewald/d_functions/main/images/bias1.png)"
   ]
  },
  {
   "cell_type": "markdown",
   "id": "45b31079-7efa-458b-995f-327ffcf0fd77",
   "metadata": {},
   "source": [
    "## Kubernetes"
   ]
  },
  {
   "cell_type": "markdown",
   "id": "a3964acc-fe34-4c19-911f-6918ca740e0c",
   "metadata": {},
   "source": [
    "![Alt Text](https://raw.githubusercontent.com/derek-dewald/d_functions/main/images/Kubernetes.png)"
   ]
  },
  {
   "cell_type": "code",
   "execution_count": 120,
   "id": "a721beaf-0c59-41bf-a17a-eaffda5a8644",
   "metadata": {},
   "outputs": [
    {
     "name": "stdout",
     "output_type": "stream",
     "text": [
      "![Alt Text](https://raw.githubusercontent.com/derek-dewald/d_functions/main/images/confusion_matrix.png)\n",
      "![Alt Text](https://raw.githubusercontent.com/derek-dewald/d_functions/main/images/bias.png)\n",
      "![Alt Text](https://raw.githubusercontent.com/derek-dewald/d_functions/main/images/Anscombe_Quartet.png)\n",
      "![Alt Text](https://raw.githubusercontent.com/derek-dewald/d_functions/main/images/Optimizer_Performance.png)\n",
      "![Alt Text](https://raw.githubusercontent.com/derek-dewald/d_functions/main/images/kubernetes.png)\n",
      "![Alt Text](https://raw.githubusercontent.com/derek-dewald/d_functions/main/images/cosine_similiarity.png)\n",
      "![Alt Text](https://raw.githubusercontent.com/derek-dewald/d_functions/main/images/Mnist_Simple_results.png)\n",
      "![Alt Text](https://raw.githubusercontent.com/derek-dewald/d_functions/main/images/spark.png)\n",
      "![Alt Text](https://raw.githubusercontent.com/derek-dewald/d_functions/main/images/Consulting_Fees.png)\n",
      "![Alt Text](https://raw.githubusercontent.com/derek-dewald/d_functions/main/images/X_OR.png)\n",
      "![Alt Text](https://raw.githubusercontent.com/derek-dewald/d_functions/main/images/SQL_Cheatsheet.png)\n",
      "![Alt Text](https://raw.githubusercontent.com/derek-dewald/d_functions/main/images/scikit_learn_models.png)\n",
      "![Alt Text](https://raw.githubusercontent.com/derek-dewald/d_functions/main/images/harmonic_mean.png)\n",
      "![Alt Text](https://raw.githubusercontent.com/derek-dewald/d_functions/main/images/ML_AI_Significance_Chart.png)\n",
      "![Alt Text](https://raw.githubusercontent.com/derek-dewald/d_functions/main/images/Variance_Not_Equal.png)\n",
      "![Alt Text](https://raw.githubusercontent.com/derek-dewald/d_functions/main/images/BiParte_Graph.png)\n",
      "![Alt Text](https://raw.githubusercontent.com/derek-dewald/d_functions/main/images/ImpactOutliers.png)\n",
      "![Alt Text](https://raw.githubusercontent.com/derek-dewald/d_functions/main/images/MultiClass_LogisticReg.png)\n",
      "![Alt Text](https://raw.githubusercontent.com/derek-dewald/d_functions/main/images/Log_loss.png)\n",
      "![Alt Text](https://raw.githubusercontent.com/derek-dewald/d_functions/main/images/AI_ML_DL_Visual.png)\n",
      "![Alt Text](https://raw.githubusercontent.com/derek-dewald/d_functions/main/images/MNist_Results.png)\n",
      "![Alt Text](https://raw.githubusercontent.com/derek-dewald/d_functions/main/images/Correlation_Visual.png)\n",
      "![Alt Text](https://raw.githubusercontent.com/derek-dewald/d_functions/main/images/bias1.png)\n",
      "![Alt Text](https://raw.githubusercontent.com/derek-dewald/d_functions/main/images/Optimizers.png)\n",
      "![Alt Text](https://raw.githubusercontent.com/derek-dewald/d_functions/main/images/DataVsModel.png)\n",
      "![Alt Text](https://raw.githubusercontent.com/derek-dewald/d_functions/main/images/Boosting_.png)\n",
      "![Alt Text](https://raw.githubusercontent.com/derek-dewald/d_functions/main/images/Loss_Functions.png)\n",
      "![Alt Text](https://raw.githubusercontent.com/derek-dewald/d_functions/main/images/Bagging.png)\n",
      "![Alt Text](https://raw.githubusercontent.com/derek-dewald/d_functions/main/images/Sigmoid.png)\n"
     ]
    }
   ],
   "source": []
  },
  {
   "cell_type": "markdown",
   "id": "8ab6ea66-ed48-46dc-86fe-dd23d591b317",
   "metadata": {},
   "source": [
    "\n",
    "![Alt Text](https://raw.githubusercontent.com/derek-dewald/d_functions/main/images/confusion_matrix.png)"
   ]
  },
  {
   "cell_type": "markdown",
   "id": "f680801a-3c84-4306-ad61-b73dc3bd5663",
   "metadata": {},
   "source": [
    "![Alt Text](https://raw.githubusercontent.com/derek-dewald/d_functions/main/images/DataVsModel.png)"
   ]
  },
  {
   "cell_type": "markdown",
   "id": "d0c7d3ca-fe44-45de-8f54-378b57b40225",
   "metadata": {},
   "source": [
    "![Alt Text](https://raw.githubusercontent.com/derek-dewald/d_functions/main/images/bias1.png)"
   ]
  },
  {
   "cell_type": "markdown",
   "id": "8d011e87-7339-47f3-898b-5bb39e88c068",
   "metadata": {},
   "source": [
    "![Alt Text](https://raw.githubusercontent.com/derek-dewald/d_functions/main/images/Loss_Functions.png)"
   ]
  },
  {
   "cell_type": "code",
   "execution_count": null,
   "id": "9266b1be-c4fa-4d1e-b3f4-ef06cc40ef6b",
   "metadata": {},
   "outputs": [],
   "source": []
  },
  {
   "cell_type": "markdown",
   "id": "e23ef50c-1f54-4d40-b030-b39c5bbbf9ff",
   "metadata": {},
   "source": [
    "![Alt Text](https://raw.githubusercontent.com/derek-dewald/d_functions/main/images/scikit_learn_models.png)"
   ]
  },
  {
   "cell_type": "markdown",
   "id": "eeb0e795-1ccf-4e2f-a450-37c935393671",
   "metadata": {},
   "source": [
    "### Confusion Matrix"
   ]
  },
  {
   "cell_type": "markdown",
   "id": "92fa31f0-33e2-4137-9770-83e849d47369",
   "metadata": {},
   "source": [
    "![Alt Text](https://raw.githubusercontent.com/derek-dewald/d_functions/main/images/confusion_matrix.png)"
   ]
  },
  {
   "cell_type": "markdown",
   "id": "86d300de-d71d-4995-9dee-019aa0e1adca",
   "metadata": {},
   "source": [
    "### Cosine Similarity"
   ]
  },
  {
   "cell_type": "code",
   "execution_count": null,
   "id": "072e589c-cac0-466a-bde4-f96f22d59cd3",
   "metadata": {},
   "outputs": [],
   "source": []
  },
  {
   "cell_type": "markdown",
   "id": "0f217b6b-8bb7-4a4a-bceb-a13ef21db2f7",
   "metadata": {},
   "source": [
    "![Alt Text](https://raw.githubusercontent.com/derek-dewald/d_functions/main/images/cosine_similiarity.png)\n"
   ]
  },
  {
   "cell_type": "code",
   "execution_count": null,
   "id": "e0ba99d6-da6f-4967-aeae-87e25b26f3c0",
   "metadata": {},
   "outputs": [],
   "source": []
  },
  {
   "cell_type": "code",
   "execution_count": null,
   "id": "c5e8d458-8f8d-41f2-8e1f-395bf85bc0f7",
   "metadata": {},
   "outputs": [],
   "source": []
  },
  {
   "cell_type": "code",
   "execution_count": null,
   "id": "9cd7a888-8248-4f70-a21b-50d7003e0c73",
   "metadata": {},
   "outputs": [],
   "source": []
  },
  {
   "cell_type": "markdown",
   "id": "4fc35cb2-1ff0-4170-b05e-c0197b02c362",
   "metadata": {},
   "source": [
    "![Alt Text](https://raw.githubusercontent.com/derek-dewald/d_functions/main/images/MNist Results.png)"
   ]
  },
  {
   "cell_type": "code",
   "execution_count": null,
   "id": "2b4245ab-7e93-43e3-b08e-c5453daf0dcc",
   "metadata": {},
   "outputs": [],
   "source": []
  },
  {
   "cell_type": "code",
   "execution_count": null,
   "id": "4c2fad07-2200-4216-8aa1-774ef5005213",
   "metadata": {},
   "outputs": [],
   "source": []
  },
  {
   "cell_type": "markdown",
   "id": "683b23eb-01f9-4a5f-8217-de0cf11e98e4",
   "metadata": {},
   "source": [
    "## Supervised Learning\n",
    "1) Linear Regression\n",
    "2) Logistic Regression\n",
    "3) Decision Trees\n",
    "\n",
    "\n",
    "## Unsupervised Learning\n",
    "1) Support Vector Machines (SVM)\n",
    "2) Principle Component Analysis\n",
    "\n",
    "\n",
    "## Semi Supervised Learning\n",
    "\n",
    "\n",
    "\n",
    "## Reinforcement Learning\n",
    "\n",
    "## Ensemble Methods\n",
    "### Boosting\n",
    "### Bagging"
   ]
  },
  {
   "cell_type": "markdown",
   "id": "a5013b91-375a-470b-8a81-90290eeaf185",
   "metadata": {},
   "source": [
    "## Logistic Regression"
   ]
  },
  {
   "cell_type": "markdown",
   "id": "343b9d8f-6282-4d8d-b5f1-af51265dcdfa",
   "metadata": {},
   "source": [
    "\n",
    "### Model\n",
    "$f(x) = w_0 + w_1X$\n",
    "\n",
    "### Parameters \n",
    "\n",
    "$[w_0, w_1]$\n",
    "\n",
    "### Loss\n",
    "$J(w_0,w_1) = \\frac{1}{n} \\sum_{i=1}^n \\left( y_i - (w_0 + w_1 x_i) \\right)^2$\n",
    "\n",
    "### Objective \n",
    "Minimize $J(w_0,w_1)$\n",
    "\n",
    "### Mean Square Error\n",
    "$MSE = \\frac{1}{n} \\sum_{i=1}^n (y_i - \\hat{y}_i)^2$"
   ]
  },
  {
   "cell_type": "markdown",
   "id": "2e4f3f82-e081-43c4-bcf0-e5edcfb617dd",
   "metadata": {},
   "source": [
    "### Sigmoid Function\n",
    "\n",
    "$\\sigma(x) = \\frac{1}{1 + e^{-x}}$\n"
   ]
  },
  {
   "cell_type": "markdown",
   "id": "720fd8c5-2c59-4b91-9f3b-5631318b9f71",
   "metadata": {},
   "source": [
    "Linear Regression : $\\hat{y} = xw^T + b$ <br>\n",
    "Logistic Regression: $\\hat{y} = \\frac{1}{1 + e^({-xw^T + b})}$"
   ]
  },
  {
   "cell_type": "code",
   "execution_count": 43,
   "id": "7ce69776-b4c7-4706-8628-73dbe1dd65ef",
   "metadata": {},
   "outputs": [],
   "source": [
    "## Decision Boundary"
   ]
  },
  {
   "cell_type": "code",
   "execution_count": null,
   "id": "6b2308de-9437-4c0f-9292-72e98ee383db",
   "metadata": {},
   "outputs": [],
   "source": [
    "## Cross Entropy"
   ]
  },
  {
   "cell_type": "markdown",
   "id": "b14156be-49b7-4853-9f06-c0f389ff4b59",
   "metadata": {},
   "source": [
    "## Gradient Descent \n",
    "\n",
    "Predicitions: $\\sigma(XW^T)$\n",
    "\n",
    "Differences: $\\sigma(XW^T) - Y$\n",
    "\n",
    "Gradient: $\\frac{1}{m} (\\sigma(XW^T) -Y)$"
   ]
  },
  {
   "cell_type": "code",
   "execution_count": null,
   "id": "3afc58d8-dad3-4813-8d86-5d72ecd3cba1",
   "metadata": {},
   "outputs": [],
   "source": []
  },
  {
   "cell_type": "code",
   "execution_count": null,
   "id": "32c9368f-34f7-4e15-b47a-6cda3ea23052",
   "metadata": {},
   "outputs": [],
   "source": []
  },
  {
   "cell_type": "markdown",
   "id": "63112174-349b-4a6b-8648-a28fd09b29d2",
   "metadata": {},
   "source": [
    "$\\text{Log Loss} = -\\frac{1}{n} \\sum_{i=1}^n \\left[ y_i \\log(\\hat{y}_i) + (1 - y_i) \\log(1 - \\hat{y}_i) \\right]$\n"
   ]
  },
  {
   "cell_type": "markdown",
   "id": "16f27cee-cf11-4cd8-acf2-848d970c2793",
   "metadata": {},
   "source": [
    "$\\text{Log Loss} = -\\frac{1}{n} \\sum_{i=1}^n \\sum_{j=1}^k y_{ij} \\log(\\hat{y}_{ij})$\n"
   ]
  },
  {
   "cell_type": "code",
   "execution_count": 60,
   "id": "c4bfc285-7988-491a-9edf-dcf11fb72f51",
   "metadata": {},
   "outputs": [],
   "source": [
    "## Softmax Normalization"
   ]
  },
  {
   "cell_type": "markdown",
   "id": "bdb27f73-0960-42b2-bd53-132ba474c193",
   "metadata": {},
   "source": [
    "$\\sigma(z)_i = \\frac{\\sigma(xW^T_j)}{\\sum_{j=1}^k \\sigma(xW^T_j)}$"
   ]
  },
  {
   "cell_type": "code",
   "execution_count": 73,
   "id": "578c7716-f489-4d25-abec-1d1f93ce316c",
   "metadata": {},
   "outputs": [],
   "source": [
    "## Chain Rule"
   ]
  },
  {
   "cell_type": "markdown",
   "id": "771233e3-b440-49cc-b895-a529dde00e9a",
   "metadata": {},
   "source": [
    "$h(x) = f(g(x))$\n",
    "\n",
    "\n",
    "$h'(x) = f'(g(x)) \\cdot g'(x)$\n"
   ]
  },
  {
   "cell_type": "code",
   "execution_count": null,
   "id": "72d11698-c4e1-4ae0-9632-c475d9f887da",
   "metadata": {},
   "outputs": [],
   "source": []
  },
  {
   "cell_type": "code",
   "execution_count": null,
   "id": "3e3d3a47-7565-4d2b-8a34-e4a1b4cf8d38",
   "metadata": {},
   "outputs": [],
   "source": []
  },
  {
   "cell_type": "code",
   "execution_count": null,
   "id": "45f75f2b-f398-42e9-9297-17e241f4a7d4",
   "metadata": {},
   "outputs": [],
   "source": [
    "## Boosting. Train Additive Models in Series Where Each Predicts the Residual from the Previous Model"
   ]
  },
  {
   "cell_type": "code",
   "execution_count": null,
   "id": "c20c0e1e-43ee-4613-a1d0-289767ab021c",
   "metadata": {},
   "outputs": [],
   "source": []
  },
  {
   "cell_type": "code",
   "execution_count": null,
   "id": "74af72fb-e284-4c4e-9408-bed6c0f1bf77",
   "metadata": {},
   "outputs": [],
   "source": [
    "## Bagging. Trains Models in Parallel Via Bootstrap Sampling"
   ]
  },
  {
   "cell_type": "markdown",
   "id": "e80c9d7d-9dc2-4b2d-af80-051e671ec9aa",
   "metadata": {},
   "source": [
    "## Distance Review"
   ]
  },
  {
   "cell_type": "markdown",
   "id": "ef39068a-b22a-4dfa-8336-8fc6327d5016",
   "metadata": {},
   "source": [
    "$ ||A|| = \\sqrt{\\sum \\left (A_i \\right)^2}$\n"
   ]
  },
  {
   "cell_type": "markdown",
   "id": "c3a75dcf-0790-4036-9e3b-95fbdde9aaa3",
   "metadata": {},
   "source": [
    "$ L_2(A,B) = \\sqrt{\\sum \\left( A_i - B_i \\right)^2} $"
   ]
  },
  {
   "cell_type": "markdown",
   "id": "bab53a3f-3bdd-4812-8f26-b28f3061d4d6",
   "metadata": {},
   "source": [
    "$\\ A \\cdot B = \\sum_{i=1}^n A_i B_i = ||A|| ||B|| cos(\\theta)$\n"
   ]
  }
 ],
 "metadata": {
  "kernelspec": {
   "display_name": "Python 3 (ipykernel)",
   "language": "python",
   "name": "python3"
  },
  "language_info": {
   "codemirror_mode": {
    "name": "ipython",
    "version": 3
   },
   "file_extension": ".py",
   "mimetype": "text/x-python",
   "name": "python",
   "nbconvert_exporter": "python",
   "pygments_lexer": "ipython3",
   "version": "3.11.5"
  }
 },
 "nbformat": 4,
 "nbformat_minor": 5
}
