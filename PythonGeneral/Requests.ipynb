{
 "cells": [
  {
   "cell_type": "code",
   "execution_count": null,
   "id": "8c84eb93",
   "metadata": {},
   "outputs": [],
   "source": [
    "import pandas as pd\n",
    "url = 'https://en-wikipedia.org/wiki/COVID-19_pandemic_by_country_and_territory'\n",
    "pd.read_html(url)\n",
    "\n",
    "import pandas as pd\n",
    "import requests\n",
    "\n",
    "# Correct Wikipedia URL\n",
    "url = 'https://en.wikipedia.org/wiki/COVID-19_pandemic_by_country_and_territory'\n",
    "\n",
    "# Set User-Agent to mimic a real browser\n",
    "headers = {\"User-Agent\": \"Mozilla/5.0 (Windows NT 10.0; Win64; x64) AppleWebKit/537.36 (KHTML, like Gecko) Chrome/114.0.0.0 Safari/537.36\"}\n",
    "\n",
    "# Make the request\n",
    "response = requests.get(url, headers=headers)\n",
    "\n",
    "# Check if the request was successful\n",
    "if response.status_code == 200:\n",
    "    # Parse the HTML tables\n",
    "    tables = pd.read_html(response.text)\n",
    "\n",
    "    # Print the number of tables found\n",
    "    print(f\"Total tables found: {len(tables)}\")\n",
    "\n",
    "    # Show the first table\n",
    "    print(tables[0].head())\n",
    "else:\n",
    "    print(f\"Failed to fetch page, status code: {response.status_code}\")\n"
   ]
  }
 ],
 "metadata": {
  "kernelspec": {
   "display_name": "Python 3 (ipykernel)",
   "language": "python",
   "name": "python3"
  },
  "language_info": {
   "codemirror_mode": {
    "name": "ipython",
    "version": 3
   },
   "file_extension": ".py",
   "mimetype": "text/x-python",
   "name": "python",
   "nbconvert_exporter": "python",
   "pygments_lexer": "ipython3",
   "version": "3.12.8"
  }
 },
 "nbformat": 4,
 "nbformat_minor": 5
}
