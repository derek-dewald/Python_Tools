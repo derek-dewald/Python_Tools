{
 "cells": [
  {
   "cell_type": "markdown",
   "id": "fb8b5fb1",
   "metadata": {},
   "source": [
    "# Example of Markdown File"
   ]
  },
  {
   "cell_type": "markdown",
   "id": "6b0a8e66",
   "metadata": {},
   "source": [
    "## Header 2\n",
    "- Header 2 Point\n",
    "\n",
    "### Header 3\n",
    "- Header 3 Point\n",
    "\n",
    "#### Header 4 \n",
    "- Point!\n"
   ]
  }
 ],
 "metadata": {
  "kernelspec": {
   "display_name": "Python 3 (ipykernel)",
   "language": "python",
   "name": "python3"
  },
  "language_info": {
   "codemirror_mode": {
    "name": "ipython",
    "version": 3
   },
   "file_extension": ".py",
   "mimetype": "text/x-python",
   "name": "python",
   "nbconvert_exporter": "python",
   "pygments_lexer": "ipython3",
   "version": "3.12.8"
  }
 },
 "nbformat": 4,
 "nbformat_minor": 5
}
